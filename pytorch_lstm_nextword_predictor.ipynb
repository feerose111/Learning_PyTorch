{
  "nbformat": 4,
  "nbformat_minor": 0,
  "metadata": {
    "colab": {
      "provenance": [],
      "authorship_tag": "ABX9TyNGErRSwmK2YMYU0JqEmvyS",
      "include_colab_link": true
    },
    "kernelspec": {
      "name": "python3",
      "display_name": "Python 3"
    },
    "language_info": {
      "name": "python"
    }
  },
  "cells": [
    {
      "cell_type": "markdown",
      "metadata": {
        "id": "view-in-github",
        "colab_type": "text"
      },
      "source": [
        "<a href=\"https://colab.research.google.com/github/feerose111/Learning_PyTorch/blob/main/pytorch_lstm_nextword_predictor.ipynb\" target=\"_parent\"><img src=\"https://colab.research.google.com/assets/colab-badge.svg\" alt=\"Open In Colab\"/></a>"
      ]
    },
    {
      "cell_type": "code",
      "execution_count": 3,
      "metadata": {
        "colab": {
          "base_uri": "https://localhost:8080/"
        },
        "id": "BVzkjwM8F7aY",
        "outputId": "d0648a30-02e7-44b7-fe4d-0cf658c4e200"
      },
      "outputs": [
        {
          "output_type": "stream",
          "name": "stdout",
          "text": [
            "Requirement already satisfied: nltk in /usr/local/lib/python3.11/dist-packages (3.9.1)\n",
            "Requirement already satisfied: click in /usr/local/lib/python3.11/dist-packages (from nltk) (8.1.8)\n",
            "Requirement already satisfied: joblib in /usr/local/lib/python3.11/dist-packages (from nltk) (1.4.2)\n",
            "Requirement already satisfied: regex>=2021.8.3 in /usr/local/lib/python3.11/dist-packages (from nltk) (2024.11.6)\n",
            "Requirement already satisfied: tqdm in /usr/local/lib/python3.11/dist-packages (from nltk) (4.67.1)\n"
          ]
        }
      ],
      "source": [
        "!pip install nltk"
      ]
    },
    {
      "cell_type": "code",
      "source": [
        "import torch\n",
        "import torch.nn as nn\n",
        "import numpy as np\n",
        "import nltk\n",
        "from torch.utils.data import Dataset, DataLoader\n",
        "from nltk.tokenize import word_tokenize\n",
        "from collections import Counter\n"
      ],
      "metadata": {
        "id": "Wx4UIFkAGsIw"
      },
      "execution_count": 4,
      "outputs": []
    },
    {
      "cell_type": "code",
      "source": [
        "document = \"\"\"About the Program\n",
        "What is the course fee for  Data Science Mentorship Program (DSMP 2023)\n",
        "The course follows a monthly subscription model where you have to make monthly payments of Rs 799/month.\n",
        "What is the total duration of the course?\n",
        "The total duration of the course is 7 months. So the total course fee becomes 799*7 = Rs 5600(approx.)\n",
        "What is the syllabus of the mentorship program?\n",
        "We will be covering the following modules:\n",
        "Python Fundamentals\n",
        "Python libraries for Data Science\n",
        "Data Analysis\n",
        "SQL for Data Science\n",
        "Maths for Machine Learning\n",
        "ML Algorithms\n",
        "Practical ML\n",
        "MLOPs\n",
        "Case studies\n",
        "You can check the detailed syllabus here - https://learnwith.campusx.in/courses/CampusX-Data-Science-Mentorship-Program-637339afe4b0615a1bbed390\n",
        "Will Deep Learning and NLP be a part of this program?\n",
        "No, NLP and Deep Learning both are not a part of this program’s curriculum.\n",
        "What if I miss a live session? Will I get a recording of the session?\n",
        "Yes all our sessions are recorded, so even if you miss a session you can go back and watch the recording.\n",
        "Where can I find the class schedule?\n",
        "Checkout this google sheet to see month by month time table of the course - https://docs.google.com/spreadsheets/d/16OoTax_A6ORAeCg4emgexhqqPv3noQPYKU7RJ6ArOzk/edit?usp=sharing.\n",
        "What is the time duration of all the live sessions?\n",
        "Roughly, all the sessions last 2 hours.\n",
        "What is the language spoken by the instructor during the sessions?\n",
        "Hinglish\n",
        "How will I be informed about the upcoming class?\n",
        "You will get a mail from our side before every paid session once you become a paid user.\n",
        "Can I do this course if I am from a non-tech background?\n",
        "Yes, absolutely.\n",
        "I am late, can I join the program in the middle?\n",
        "Absolutely, you can join the program anytime.\n",
        "If I join/pay in the middle, will I be able to see all the past lectures?\n",
        "Yes, once you make the payment you will be able to see all the past content in your dashboard.\n",
        "Where do I have to submit the task?\n",
        "You don’t have to submit the task. We will provide you with the solutions, you have to self evaluate the task yourself.\n",
        "Will we do case studies in the program?\n",
        "Yes.\n",
        "Where can we contact you?\n",
        "You can mail us at nitish.campusx@gmail.com\n",
        "Payment/Registration related questions\n",
        "Where do we have to make our payments? Your YouTube channel or website?\n",
        "You have to make all your monthly payments on our website. Here is the link for our website - https://learnwith.campusx.in/\n",
        "Can we pay the entire amount of Rs 5600 all at once?\n",
        "Unfortunately no, the program follows a monthly subscription model.\n",
        "What is the validity of monthly subscription? Suppose if I pay on 15th Jan, then do I have to pay again on 1st Feb or 15th Feb\n",
        "15th Feb. The validity period is 30 days from the day you make the payment. So essentially you can join anytime you don’t have to wait for a month to end.\n",
        "What if I don’t like the course after making the payment. What is the refund policy?\n",
        "You get a 7 days refund period from the day you have made the payment.\n",
        "I am living outside India and I am not able to make the payment on the website, what should I do?\n",
        "You have to contact us by sending a mail at nitish.campusx@gmail.com\n",
        "Post registration queries\n",
        "Till when can I view the paid videos on the website?\n",
        "This one is tricky, so read carefully. You can watch the videos till your subscription is valid. Suppose you have purchased subscription on 21st Jan, you will be able to watch all the past paid sessions in the period of 21st Jan to 20th Feb. But after 21st Feb you will have to purchase the subscription again.\n",
        "But once the course is over and you have paid us Rs 5600(or 7 installments of Rs 799) you will be able to watch the paid sessions till Aug 2024.\n",
        "Why lifetime validity is not provided?\n",
        "Because of the low course fee.\n",
        "Where can I reach out in case of a doubt after the session?\n",
        "You will have to fill a google form provided in your dashboard and our team will contact you for a 1 on 1 doubt clearance session\n",
        "If I join the program late, can I still ask past week doubts?\n",
        "Yes, just select past week doubt in the doubt clearance google form.\n",
        "I am living outside India and I am not able to make the payment on the website, what should I do?\n",
        "You have to contact us by sending a mail at nitish.campusx@gmai.com\n",
        "Certificate and Placement Assistance related queries\n",
        "What is the criteria to get the certificate?\n",
        "There are 2 criterias:\n",
        "You have to pay the entire fee of Rs 5600\n",
        "You have to attempt all the course assessments.\n",
        "I am joining late. How can I pay payment of the earlier months?\n",
        "You will get a link to pay fee of earlier months in your dashboard once you pay for the current month.\n",
        "I have read that Placement assistance is a part of this program. What comes under Placement assistance?\n",
        "This is to clarify that Placement assistance does not mean Placement guarantee. So we dont guarantee you any jobs or for that matter even interview calls. So if you are planning to join this course just for placements, I am afraid you will be disappointed. Here is what comes under placement assistance\n",
        "Portfolio Building sessions\n",
        "Soft skill sessions\n",
        "Sessions with industry mentors\n",
        "Discussion on Job hunting strategies\n",
        "\"\"\"\n"
      ],
      "metadata": {
        "id": "rWXaScSXJNY2"
      },
      "execution_count": 5,
      "outputs": []
    },
    {
      "cell_type": "code",
      "source": [
        "#tokenization\n",
        "nltk.download('punkt')\n",
        "nltk.download('punkt_tab')"
      ],
      "metadata": {
        "colab": {
          "base_uri": "https://localhost:8080/"
        },
        "id": "6AUzjwp4Jckr",
        "outputId": "125b4cd9-95df-4639-dd39-60933d8ae9a7"
      },
      "execution_count": 6,
      "outputs": [
        {
          "output_type": "stream",
          "name": "stderr",
          "text": [
            "[nltk_data] Downloading package punkt to /root/nltk_data...\n",
            "[nltk_data]   Unzipping tokenizers/punkt.zip.\n",
            "[nltk_data] Downloading package punkt_tab to /root/nltk_data...\n",
            "[nltk_data]   Unzipping tokenizers/punkt_tab.zip.\n"
          ]
        },
        {
          "output_type": "execute_result",
          "data": {
            "text/plain": [
              "True"
            ]
          },
          "metadata": {},
          "execution_count": 6
        }
      ]
    },
    {
      "cell_type": "code",
      "source": [
        "#tokenize\n",
        "tokens = word_tokenize(document.lower())"
      ],
      "metadata": {
        "id": "mJees_35J4KA"
      },
      "execution_count": 7,
      "outputs": []
    },
    {
      "cell_type": "code",
      "source": [
        "#vocab\n",
        "vocab = { '<UNK>': 0 }\n",
        "\n",
        "for token in Counter(tokens).keys():\n",
        "  if token not in vocab:\n",
        "    vocab[token] = len(vocab)\n",
        "\n",
        "print(vocab)\n",
        "\n",
        ""
      ],
      "metadata": {
        "colab": {
          "base_uri": "https://localhost:8080/"
        },
        "id": "de5sxBRMKHiR",
        "outputId": "3e0950db-39c0-4a95-eca4-e2edd47a511c"
      },
      "execution_count": 8,
      "outputs": [
        {
          "output_type": "stream",
          "name": "stdout",
          "text": [
            "{'<UNK>': 0, 'about': 1, 'the': 2, 'program': 3, 'what': 4, 'is': 5, 'course': 6, 'fee': 7, 'for': 8, 'data': 9, 'science': 10, 'mentorship': 11, '(': 12, 'dsmp': 13, '2023': 14, ')': 15, 'follows': 16, 'a': 17, 'monthly': 18, 'subscription': 19, 'model': 20, 'where': 21, 'you': 22, 'have': 23, 'to': 24, 'make': 25, 'payments': 26, 'of': 27, 'rs': 28, '799/month': 29, '.': 30, 'total': 31, 'duration': 32, '?': 33, '7': 34, 'months': 35, 'so': 36, 'becomes': 37, '799': 38, '*': 39, '=': 40, '5600': 41, 'approx': 42, 'syllabus': 43, 'we': 44, 'will': 45, 'be': 46, 'covering': 47, 'following': 48, 'modules': 49, ':': 50, 'python': 51, 'fundamentals': 52, 'libraries': 53, 'analysis': 54, 'sql': 55, 'maths': 56, 'machine': 57, 'learning': 58, 'ml': 59, 'algorithms': 60, 'practical': 61, 'mlops': 62, 'case': 63, 'studies': 64, 'can': 65, 'check': 66, 'detailed': 67, 'here': 68, '-': 69, 'https': 70, '//learnwith.campusx.in/courses/campusx-data-science-mentorship-program-637339afe4b0615a1bbed390': 71, 'deep': 72, 'and': 73, 'nlp': 74, 'part': 75, 'this': 76, 'no': 77, ',': 78, 'both': 79, 'are': 80, 'not': 81, '’': 82, 's': 83, 'curriculum': 84, 'if': 85, 'i': 86, 'miss': 87, 'live': 88, 'session': 89, 'get': 90, 'recording': 91, 'yes': 92, 'all': 93, 'our': 94, 'sessions': 95, 'recorded': 96, 'even': 97, 'go': 98, 'back': 99, 'watch': 100, 'find': 101, 'class': 102, 'schedule': 103, 'checkout': 104, 'google': 105, 'sheet': 106, 'see': 107, 'month': 108, 'by': 109, 'time': 110, 'table': 111, '//docs.google.com/spreadsheets/d/16ootax_a6oraecg4emgexhqqpv3noqpyku7rj6arozk/edit': 112, 'usp=sharing': 113, 'roughly': 114, 'last': 115, '2': 116, 'hours': 117, 'language': 118, 'spoken': 119, 'instructor': 120, 'during': 121, 'hinglish': 122, 'how': 123, 'informed': 124, 'upcoming': 125, 'mail': 126, 'from': 127, 'side': 128, 'before': 129, 'every': 130, 'paid': 131, 'once': 132, 'become': 133, 'user': 134, 'do': 135, 'am': 136, 'non-tech': 137, 'background': 138, 'absolutely': 139, 'late': 140, 'join': 141, 'in': 142, 'middle': 143, 'anytime': 144, 'join/pay': 145, 'able': 146, 'past': 147, 'lectures': 148, 'payment': 149, 'content': 150, 'your': 151, 'dashboard': 152, 'submit': 153, 'task': 154, 'don': 155, 't': 156, 'provide': 157, 'with': 158, 'solutions': 159, 'self': 160, 'evaluate': 161, 'yourself': 162, 'contact': 163, 'us': 164, 'at': 165, 'nitish.campusx': 166, '@': 167, 'gmail.com': 168, 'payment/registration': 169, 'related': 170, 'questions': 171, 'youtube': 172, 'channel': 173, 'or': 174, 'website': 175, 'on': 176, 'link': 177, '//learnwith.campusx.in/': 178, 'pay': 179, 'entire': 180, 'amount': 181, 'unfortunately': 182, 'validity': 183, 'suppose': 184, '15th': 185, 'jan': 186, 'then': 187, 'again': 188, '1st': 189, 'feb': 190, 'feb.': 191, 'period': 192, '30': 193, 'days': 194, 'day': 195, 'essentially': 196, 'wait': 197, 'end': 198, 'like': 199, 'after': 200, 'making': 201, 'refund': 202, 'policy': 203, 'made': 204, 'living': 205, 'outside': 206, 'india': 207, 'should': 208, 'sending': 209, 'post': 210, 'registration': 211, 'queries': 212, 'till': 213, 'when': 214, 'view': 215, 'videos': 216, 'one': 217, 'tricky': 218, 'read': 219, 'carefully': 220, 'valid': 221, 'purchased': 222, '21st': 223, '20th': 224, 'but': 225, 'purchase': 226, 'over': 227, 'installments': 228, 'aug': 229, '2024.': 230, 'why': 231, 'lifetime': 232, 'provided': 233, 'because': 234, 'low': 235, 'reach': 236, 'out': 237, 'doubt': 238, 'fill': 239, 'form': 240, 'team': 241, '1': 242, 'clearance': 243, 'still': 244, 'ask': 245, 'week': 246, 'doubts': 247, 'just': 248, 'select': 249, 'gmai.com': 250, 'certificate': 251, 'placement': 252, 'assistance': 253, 'criteria': 254, 'there': 255, 'criterias': 256, 'attempt': 257, 'assessments': 258, 'joining': 259, 'earlier': 260, 'current': 261, 'that': 262, 'comes': 263, 'under': 264, 'clarify': 265, 'does': 266, 'mean': 267, 'guarantee': 268, 'dont': 269, 'any': 270, 'jobs': 271, 'matter': 272, 'interview': 273, 'calls': 274, 'planning': 275, 'placements': 276, 'afraid': 277, 'disappointed': 278, 'portfolio': 279, 'building': 280, 'soft': 281, 'skill': 282, 'industry': 283, 'mentors': 284, 'discussion': 285, 'job': 286, 'hunting': 287, 'strategies': 288}\n"
          ]
        }
      ]
    },
    {
      "cell_type": "code",
      "source": [
        "len(vocab)"
      ],
      "metadata": {
        "colab": {
          "base_uri": "https://localhost:8080/"
        },
        "id": "ldNOP0VAKx6-",
        "outputId": "fc1ae938-d89f-4372-85b2-4a0e7db455a6"
      },
      "execution_count": 9,
      "outputs": [
        {
          "output_type": "execute_result",
          "data": {
            "text/plain": [
              "289"
            ]
          },
          "metadata": {},
          "execution_count": 9
        }
      ]
    },
    {
      "cell_type": "code",
      "source": [
        "#extract sentences from dataset\n",
        "input_sentences = document.split('\\n')\n"
      ],
      "metadata": {
        "id": "Rs2XG2HVOU5Y"
      },
      "execution_count": 10,
      "outputs": []
    },
    {
      "cell_type": "code",
      "source": [
        "#convert word in sentence to numbers\n",
        "def text_to_index(sentence , vocab):\n",
        "\n",
        "  numbered_sentence =[]\n",
        "\n",
        "  for token in sentence:\n",
        "    if token in vocab:\n",
        "      numbered_sentence.append(vocab[token])\n",
        "\n",
        "    else:\n",
        "      numbered_sentence.append(vocab['<UNK>'])\n",
        "\n",
        "  return numbered_sentence\n"
      ],
      "metadata": {
        "id": "YnJrTlrFOnHg"
      },
      "execution_count": 11,
      "outputs": []
    },
    {
      "cell_type": "code",
      "source": [
        "input_numbered_sentences = []\n",
        "\n",
        "for sentence in input_sentences:\n",
        "  input_numbered_sentences.append(text_to_index(word_tokenize(sentence.lower()), vocab))\n"
      ],
      "metadata": {
        "id": "mUZeRT7ZRl2-"
      },
      "execution_count": 12,
      "outputs": []
    },
    {
      "cell_type": "code",
      "source": [
        "len(input_numbered_sentences)"
      ],
      "metadata": {
        "colab": {
          "base_uri": "https://localhost:8080/"
        },
        "id": "6XqaegpgR0Ty",
        "outputId": "ea48232c-700c-4343-868a-1f5709547efd"
      },
      "execution_count": 13,
      "outputs": [
        {
          "output_type": "execute_result",
          "data": {
            "text/plain": [
              "78"
            ]
          },
          "metadata": {},
          "execution_count": 13
        }
      ]
    },
    {
      "cell_type": "code",
      "source": [
        "training_sequence = []\n",
        "for sentence in input_numbered_sentences:\n",
        "\n",
        "  for i in range(1, len(sentence)):\n",
        "\n",
        "    training_sequence.append(sentence[:i+1])\n"
      ],
      "metadata": {
        "id": "ifQa5Q-fSfFG"
      },
      "execution_count": 14,
      "outputs": []
    },
    {
      "cell_type": "code",
      "source": [
        "training_sequence[:5]"
      ],
      "metadata": {
        "colab": {
          "base_uri": "https://localhost:8080/"
        },
        "id": "PF0BMluWzNb6",
        "outputId": "850f9128-d33b-411f-8c42-de9c09e9fbf8"
      },
      "execution_count": 15,
      "outputs": [
        {
          "output_type": "execute_result",
          "data": {
            "text/plain": [
              "[[1, 2], [1, 2, 3], [4, 5], [4, 5, 2], [4, 5, 2, 6]]"
            ]
          },
          "metadata": {},
          "execution_count": 15
        }
      ]
    },
    {
      "cell_type": "code",
      "source": [
        "list_max = []\n",
        "\n",
        "for i in training_sequence:\n",
        "\n",
        "  list_max.append(len(i))\n",
        "\n",
        "print(max(list_max))"
      ],
      "metadata": {
        "colab": {
          "base_uri": "https://localhost:8080/"
        },
        "id": "zdVGseC8U4VT",
        "outputId": "32498bf5-6caa-485f-caed-2c2ecc387ba2"
      },
      "execution_count": 16,
      "outputs": [
        {
          "output_type": "stream",
          "name": "stdout",
          "text": [
            "62\n"
          ]
        }
      ]
    },
    {
      "cell_type": "code",
      "source": [
        "training_sequence[0]"
      ],
      "metadata": {
        "colab": {
          "base_uri": "https://localhost:8080/"
        },
        "id": "V73CxvvS4oJu",
        "outputId": "15043b8c-bb70-49d9-c9a2-9983c0a7b5fe"
      },
      "execution_count": 17,
      "outputs": [
        {
          "output_type": "execute_result",
          "data": {
            "text/plain": [
              "[1, 2]"
            ]
          },
          "metadata": {},
          "execution_count": 17
        }
      ]
    },
    {
      "cell_type": "code",
      "source": [
        "padded_input_sequence = []\n",
        "\n",
        "for sequence in  training_sequence:\n",
        "\n",
        "  padded_input_sequence.append([0]*(max(list_max)-len(sequence)) + sequence  )\n"
      ],
      "metadata": {
        "id": "zrsUwTpGx6Oe"
      },
      "execution_count": 18,
      "outputs": []
    },
    {
      "cell_type": "code",
      "source": [
        "len(padded_input_sequence[0])"
      ],
      "metadata": {
        "colab": {
          "base_uri": "https://localhost:8080/"
        },
        "id": "PwkzEgW-5Blu",
        "outputId": "f9fcdfdb-4ec9-4b98-fd86-8628951786ff"
      },
      "execution_count": 19,
      "outputs": [
        {
          "output_type": "execute_result",
          "data": {
            "text/plain": [
              "62"
            ]
          },
          "metadata": {},
          "execution_count": 19
        }
      ]
    },
    {
      "cell_type": "code",
      "source": [
        "padded_input_sequence = torch.tensor(padded_input_sequence, dtype = torch.long)"
      ],
      "metadata": {
        "colab": {
          "base_uri": "https://localhost:8080/"
        },
        "id": "67ONC0lo5TuD",
        "outputId": "8f6c2490-f1ef-4046-f3d3-8387f88c6fb0"
      },
      "execution_count": 41,
      "outputs": [
        {
          "output_type": "stream",
          "name": "stderr",
          "text": [
            "<ipython-input-41-22c846b21bb3>:1: UserWarning: To copy construct from a tensor, it is recommended to use sourceTensor.clone().detach() or sourceTensor.clone().detach().requires_grad_(True), rather than torch.tensor(sourceTensor).\n",
            "  padded_input_sequence = torch.tensor(padded_input_sequence, dtype = torch.long)\n"
          ]
        }
      ]
    },
    {
      "cell_type": "code",
      "source": [
        "padded_input_sequence"
      ],
      "metadata": {
        "colab": {
          "base_uri": "https://localhost:8080/"
        },
        "id": "SYP1eNsY5ien",
        "outputId": "bf8cbcdc-4783-484d-a087-e3674a165346"
      },
      "execution_count": 42,
      "outputs": [
        {
          "output_type": "execute_result",
          "data": {
            "text/plain": [
              "tensor([[  0,   0,   0,  ...,   0,   1,   2],\n",
              "        [  0,   0,   0,  ...,   1,   2,   3],\n",
              "        [  0,   0,   0,  ...,   0,   4,   5],\n",
              "        ...,\n",
              "        [  0,   0,   0,  ..., 285, 176, 286],\n",
              "        [  0,   0,   0,  ..., 176, 286, 287],\n",
              "        [  0,   0,   0,  ..., 286, 287, 288]])"
            ]
          },
          "metadata": {},
          "execution_count": 42
        }
      ]
    },
    {
      "cell_type": "code",
      "source": [
        "x= padded_input_sequence[:, :-1]\n",
        "y= padded_input_sequence[:, -1]"
      ],
      "metadata": {
        "id": "WN29LTt45wnS"
      },
      "execution_count": 43,
      "outputs": []
    },
    {
      "cell_type": "code",
      "source": [
        "x"
      ],
      "metadata": {
        "colab": {
          "base_uri": "https://localhost:8080/"
        },
        "id": "kKznIGf-53sf",
        "outputId": "bf1e92dd-6101-43ee-febe-7dc1994dd530"
      },
      "execution_count": 44,
      "outputs": [
        {
          "output_type": "execute_result",
          "data": {
            "text/plain": [
              "tensor([[  0,   0,   0,  ...,   0,   0,   1],\n",
              "        [  0,   0,   0,  ...,   0,   1,   2],\n",
              "        [  0,   0,   0,  ...,   0,   0,   4],\n",
              "        ...,\n",
              "        [  0,   0,   0,  ...,   0, 285, 176],\n",
              "        [  0,   0,   0,  ..., 285, 176, 286],\n",
              "        [  0,   0,   0,  ..., 176, 286, 287]])"
            ]
          },
          "metadata": {},
          "execution_count": 44
        }
      ]
    },
    {
      "cell_type": "code",
      "source": [
        "class CustomDataset(Dataset):\n",
        "\n",
        "  def __init__(self, x , y):\n",
        "    self.x = x\n",
        "    self.y = y\n",
        "\n",
        "  def __len__(self):\n",
        "    return (self.x.shape[0])\n",
        "\n",
        "  def __getitem__(self , idx):\n",
        "    return self.x[idx], self.y[idx]"
      ],
      "metadata": {
        "id": "I1FKBdFz54H-"
      },
      "execution_count": 45,
      "outputs": []
    },
    {
      "cell_type": "code",
      "source": [
        "dataset = CustomDataset(x,y)"
      ],
      "metadata": {
        "id": "MUqujCZn724v"
      },
      "execution_count": 46,
      "outputs": []
    },
    {
      "cell_type": "code",
      "source": [
        "dataloader = DataLoader(dataset, batch_size=32, shuffle=True)"
      ],
      "metadata": {
        "id": "sghTR1n177kk"
      },
      "execution_count": 47,
      "outputs": []
    },
    {
      "cell_type": "code",
      "source": [
        "class LSTMModel(nn.Module):\n",
        "\n",
        "  def __init__(self, vocab_size):\n",
        "    super().__init__()\n",
        "    self.embedding = nn.Embedding(vocab_size, 100)\n",
        "    self.lstm = nn.LSTM(100, hidden_size=150, batch_first=True)\n",
        "    self.fc = nn.Linear(150, vocab_size)\n",
        "\n",
        "  def forward(self, x ):\n",
        "    embedded = self.embedding(x)\n",
        "    intermediate_hidden_state, (final_hidden_state , final_cell_state) = self.lstm(embedded)\n",
        "    output = self.fc(final_hidden_state.squeeze(0))\n",
        "    return output"
      ],
      "metadata": {
        "id": "mYHTPqs68GHQ"
      },
      "execution_count": 48,
      "outputs": []
    },
    {
      "cell_type": "code",
      "source": [
        "model = LSTMModel(len(vocab))"
      ],
      "metadata": {
        "id": "jhuikrEunUUs"
      },
      "execution_count": 49,
      "outputs": []
    },
    {
      "cell_type": "code",
      "source": [
        "device = torch.device('cuda' if torch.cuda.is_available() else 'cpu')"
      ],
      "metadata": {
        "id": "D1ADjSIbpkMc"
      },
      "execution_count": 50,
      "outputs": []
    },
    {
      "cell_type": "code",
      "source": [
        "model.to(device)"
      ],
      "metadata": {
        "colab": {
          "base_uri": "https://localhost:8080/"
        },
        "id": "JVkCFwScps44",
        "outputId": "d2cfd3aa-58b5-41a9-bd6d-7f00fb697e15"
      },
      "execution_count": 51,
      "outputs": [
        {
          "output_type": "execute_result",
          "data": {
            "text/plain": [
              "LSTMModel(\n",
              "  (embedding): Embedding(289, 100)\n",
              "  (lstm): LSTM(100, 150, batch_first=True)\n",
              "  (fc): Linear(in_features=150, out_features=289, bias=True)\n",
              ")"
            ]
          },
          "metadata": {},
          "execution_count": 51
        }
      ]
    },
    {
      "cell_type": "code",
      "source": [
        "epochs = 50\n",
        "learning_rate = 0.001\n",
        "\n",
        "criterion = nn.CrossEntropyLoss()\n",
        "optimizer = torch.optim.Adam(model.parameters(), lr=learning_rate)"
      ],
      "metadata": {
        "id": "AgZXBnwlpugD"
      },
      "execution_count": 52,
      "outputs": []
    },
    {
      "cell_type": "code",
      "source": [
        "for epoch in range (epochs):\n",
        "  total_loss = 0\n",
        "\n",
        "  for batch_x, batch_y in dataloader:\n",
        "    batch_x = batch_x.to(device)\n",
        "    batch_y = batch_y.to(device)\n",
        "\n",
        "    optimizer.zero_grad()\n",
        "\n",
        "    output = model(batch_x)\n",
        "\n",
        "    loss = criterion(output, batch_y)\n",
        "    loss.backward()\n",
        "\n",
        "    optimizer.step()\n",
        "\n",
        "    total_loss += loss.item()\n",
        "\n",
        "  print(f\"Epoch : --> {epoch +1 }, Loss = {total_loss:4f}\")"
      ],
      "metadata": {
        "colab": {
          "base_uri": "https://localhost:8080/"
        },
        "id": "JmU2Nb15p9Np",
        "outputId": "34a4ef54-6c3e-45f0-8730-14ce3d4668c8"
      },
      "execution_count": 53,
      "outputs": [
        {
          "output_type": "stream",
          "name": "stdout",
          "text": [
            "Epoch : --> 1, Loss = 165.628463\n",
            "Epoch : --> 2, Loss = 146.522252\n",
            "Epoch : --> 3, Loss = 134.031086\n",
            "Epoch : --> 4, Loss = 122.692631\n",
            "Epoch : --> 5, Loss = 111.246391\n",
            "Epoch : --> 6, Loss = 99.561273\n",
            "Epoch : --> 7, Loss = 89.107050\n",
            "Epoch : --> 8, Loss = 79.861505\n",
            "Epoch : --> 9, Loss = 70.769795\n",
            "Epoch : --> 10, Loss = 62.643824\n",
            "Epoch : --> 11, Loss = 55.415167\n",
            "Epoch : --> 12, Loss = 48.707506\n",
            "Epoch : --> 13, Loss = 42.893728\n",
            "Epoch : --> 14, Loss = 37.982975\n",
            "Epoch : --> 15, Loss = 33.282838\n",
            "Epoch : --> 16, Loss = 29.188755\n",
            "Epoch : --> 17, Loss = 26.141812\n",
            "Epoch : --> 18, Loss = 22.844017\n",
            "Epoch : --> 19, Loss = 20.257970\n",
            "Epoch : --> 20, Loss = 18.141484\n",
            "Epoch : --> 21, Loss = 16.283474\n",
            "Epoch : --> 22, Loss = 14.803780\n",
            "Epoch : --> 23, Loss = 13.218499\n",
            "Epoch : --> 24, Loss = 12.130499\n",
            "Epoch : --> 25, Loss = 11.130240\n",
            "Epoch : --> 26, Loss = 10.263855\n",
            "Epoch : --> 27, Loss = 9.579181\n",
            "Epoch : --> 28, Loss = 8.880897\n",
            "Epoch : --> 29, Loss = 8.442861\n",
            "Epoch : --> 30, Loss = 7.877257\n",
            "Epoch : --> 31, Loss = 7.472484\n",
            "Epoch : --> 32, Loss = 7.143754\n",
            "Epoch : --> 33, Loss = 6.899124\n",
            "Epoch : --> 34, Loss = 6.589615\n",
            "Epoch : --> 35, Loss = 6.261563\n",
            "Epoch : --> 36, Loss = 5.967228\n",
            "Epoch : --> 37, Loss = 5.924924\n",
            "Epoch : --> 38, Loss = 5.570633\n",
            "Epoch : --> 39, Loss = 5.435889\n",
            "Epoch : --> 40, Loss = 5.313782\n",
            "Epoch : --> 41, Loss = 5.303328\n",
            "Epoch : --> 42, Loss = 5.126564\n",
            "Epoch : --> 43, Loss = 4.977904\n",
            "Epoch : --> 44, Loss = 4.830220\n",
            "Epoch : --> 45, Loss = 4.754928\n",
            "Epoch : --> 46, Loss = 4.744289\n",
            "Epoch : --> 47, Loss = 4.551437\n",
            "Epoch : --> 48, Loss = 4.433962\n",
            "Epoch : --> 49, Loss = 4.530400\n",
            "Epoch : --> 50, Loss = 4.335211\n"
          ]
        }
      ]
    },
    {
      "cell_type": "code",
      "source": [
        "#prediction\n",
        "\n",
        "def prediction(model, vocab, text):\n",
        "\n",
        "  #tokenize\n",
        "  tokenized_input = word_tokenize(text.lower())\n",
        "\n",
        "  #convert to numbers\n",
        "  numbered_input = text_to_index(tokenized_input, vocab)\n",
        "\n",
        "  #padding\n",
        "  padded_input = torch.tensor([0]*(61-len(numbered_input)) + numbered_input, dtype = torch.long).unsqueeze(0)\n",
        "\n",
        "  #send to model\n",
        "  output = model(padded_input)\n",
        "\n",
        "  #predicted index\n",
        "  value, index = torch.max(output, dim=1)\n",
        "\n",
        "  #merged with text\n",
        "  return text + ' ' + list(vocab.keys())[index]"
      ],
      "metadata": {
        "id": "nVoH6lJRrBW0"
      },
      "execution_count": 55,
      "outputs": []
    },
    {
      "cell_type": "code",
      "source": [
        "print(prediction(model , vocab, 'The course follows'))"
      ],
      "metadata": {
        "colab": {
          "base_uri": "https://localhost:8080/"
        },
        "id": "lDzrS1V_2V_2",
        "outputId": "5db9b1ab-2906-4219-f610-36bc9c66568f"
      },
      "execution_count": 56,
      "outputs": [
        {
          "output_type": "stream",
          "name": "stdout",
          "text": [
            "The course follows a\n"
          ]
        }
      ]
    },
    {
      "cell_type": "code",
      "source": [
        "import time\n",
        "\n",
        "num_tokens = 10\n",
        "input_text = 'The course follows'\n",
        "\n",
        "for i in range(num_tokens):\n",
        "  output_text = prediction(model, vocab , input_text)\n",
        "  input_text = output_text\n",
        "  time.sleep(0.5)\n",
        "  print(output_text)\n"
      ],
      "metadata": {
        "colab": {
          "base_uri": "https://localhost:8080/"
        },
        "id": "EXaAbUMx2jBL",
        "outputId": "983ab8f2-369b-45b0-9bee-81a6dd1f3048"
      },
      "execution_count": 59,
      "outputs": [
        {
          "output_type": "stream",
          "name": "stdout",
          "text": [
            "The course follows a\n",
            "The course follows a monthly\n",
            "The course follows a monthly subscription\n",
            "The course follows a monthly subscription model\n",
            "The course follows a monthly subscription model where\n",
            "The course follows a monthly subscription model where you\n",
            "The course follows a monthly subscription model where you have\n",
            "The course follows a monthly subscription model where you have to\n",
            "The course follows a monthly subscription model where you have to make\n",
            "The course follows a monthly subscription model where you have to make monthly\n"
          ]
        }
      ]
    },
    {
      "cell_type": "code",
      "source": [],
      "metadata": {
        "id": "SER60uGA_4dK"
      },
      "execution_count": null,
      "outputs": []
    }
  ]
}